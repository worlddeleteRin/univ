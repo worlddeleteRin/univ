{
 "metadata": {
  "language_info": {
   "codemirror_mode": {
    "name": "ipython",
    "version": 3
   },
   "file_extension": ".py",
   "mimetype": "text/x-python",
   "name": "python",
   "nbconvert_exporter": "python",
   "pygments_lexer": "ipython3",
   "version": "3.8.4-final"
  },
  "orig_nbformat": 2,
  "kernelspec": {
   "name": "python_defaultSpec_1600755211550",
   "display_name": "Python 3.8.4 64-bit"
  }
 },
 "nbformat": 4,
 "nbformat_minor": 2,
 "cells": [
  {
   "cell_type": "code",
   "execution_count": 1,
   "metadata": {},
   "outputs": [],
   "source": [
    "import numpy as np\n",
    "import pandas as pd"
   ]
  },
  {
   "cell_type": "code",
   "execution_count": 2,
   "metadata": {},
   "outputs": [],
   "source": [
    "subjects = np.array([\n",
    "    [\n",
    "        'Английский язык',\n",
    "        ['Сидоренко И.Я.', 'Миколайчик М.В.'],\n",
    "        'english_img.jpg',\n",
    "    ],\n",
    "    [\n",
    "        'Управление человеческими ресурсами',\n",
    "        ['Герасимова С.В.'],\n",
    "        'management_img.jpg',\n",
    "    ],\n",
    "    [\n",
    "        'Методология научных исследований',\n",
    "        ['Королев О.Л.'],\n",
    "        'research_img.jpg',\n",
    "    ],\n",
    "    [\n",
    "        'Управление инновациями на предприятии',\n",
    "        ['Герасимова С.В.', 'Круликовский А.П.'],\n",
    "        'inno_img.jpg',\n",
    "    ],\n",
    "    [\n",
    "       'Теория цифровой экономики',\n",
    "       ['Апатова Н.В.', 'Остапенко И.Н.'], \n",
    "       'economy_img.jpg',\n",
    "    ],\n",
    "    [\n",
    "        'Теория защищенности ЭКС',\n",
    "        ['Бойченко О.В.'],\n",
    "        'security_img.jpg',\n",
    "    ]\n",
    "])"
   ]
  },
  {
   "cell_type": "code",
   "execution_count": null,
   "metadata": {},
   "outputs": [],
   "source": [
    "data = pd.DataFrame(subjects, column = [\n",
    "    'name',\n",
    "    'teacher',\n",
    "    'imgurl',\n",
    "])"
   ]
  }
 ]
}