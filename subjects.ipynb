{
 "metadata": {
  "language_info": {
   "codemirror_mode": {
    "name": "ipython",
    "version": 3
   },
   "file_extension": ".py",
   "mimetype": "text/x-python",
   "name": "python",
   "nbconvert_exporter": "python",
   "pygments_lexer": "ipython3",
   "version": "3.8.4-final"
  },
  "orig_nbformat": 2,
  "kernelspec": {
   "name": "python_defaultSpec_1600755211550",
   "display_name": "Python 3.8.4 64-bit"
  }
 },
 "nbformat": 4,
 "nbformat_minor": 2,
 "cells": [
  {
   "cell_type": "code",
   "execution_count": 1,
   "metadata": {},
   "outputs": [],
   "source": [
    "import numpy as np\n",
    "import pandas as pd"
   ]
  },
  {
   "cell_type": "code",
   "execution_count": 2,
   "metadata": {},
   "outputs": [],
   "source": [
    "subjects = np.array([\n",
    "    [\n",
    "        'Английский язык',\n",
    "        ['Сидоренко И.Я.', 'Миколайчик М.В.'],\n",
    "        'english_img.jpg',\n",
    "    ],\n",
    "    [\n",
    "        'Управление человеческими ресурсами',\n",
    "        ['Герасимова С.В.'],\n",
    "        'management_img.jpg',\n",
    "    ],\n",
    "    [\n",
    "        'Методология научных исследований',\n",
    "        ['Королев О.Л.'],\n",
    "        'research_img.jpg',\n",
    "    ],\n",
    "    [\n",
    "        'Управление инновациями на предприятии',\n",
    "        ['Герасимова С.В.', 'Круликовский А.П.'],\n",
    "        'inno_img.jpg',\n",
    "    ],\n",
    "    [\n",
    "       'Теория цифровой экономики',\n",
    "       ['Апатова Н.В.', 'Остапенко И.Н.'], \n",
    "       'economy_img.jpg',\n",
    "    ],\n",
    "    [\n",
    "        'Теория защищенности ЭКС',\n",
    "        ['Бойченко О.В.'],\n",
    "        'security_img.jpg',\n",
    "    ]\n",
    "])"
   ]
  },
  {
   "cell_type": "code",
   "execution_count": 4,
   "metadata": {},
   "outputs": [],
   "source": [
    "data = pd.DataFrame(subjects, columns = [\n",
    "    'name',\n",
    "    'teacher',\n",
    "    'imgurl',\n",
    "])"
   ]
  },
  {
   "cell_type": "code",
   "execution_count": 5,
   "metadata": {},
   "outputs": [
    {
     "output_type": "execute_result",
     "data": {
      "text/plain": "                                    name  \\\n0                        Английский язык   \n1     Управление человеческими ресурсами   \n2       Методология научных исследований   \n3  Управление инновациями на предприятии   \n4              Теория цифровой экономики   \n5                Теория защищенности ЭКС   \n\n                                teacher              imgurl  \n0     [Сидоренко И.Я., Миколайчик М.В.]     english_img.jpg  \n1                     [Герасимова С.В.]  management_img.jpg  \n2                        [Королев О.Л.]    research_img.jpg  \n3  [Герасимова С.В., Круликовский А.П.]        inno_img.jpg  \n4        [Апатова Н.В., Остапенко И.Н.]     economy_img.jpg  \n5                       [Бойченко О.В.]    security_img.jpg  ",
      "text/html": "<div>\n<style scoped>\n    .dataframe tbody tr th:only-of-type {\n        vertical-align: middle;\n    }\n\n    .dataframe tbody tr th {\n        vertical-align: top;\n    }\n\n    .dataframe thead th {\n        text-align: right;\n    }\n</style>\n<table border=\"1\" class=\"dataframe\">\n  <thead>\n    <tr style=\"text-align: right;\">\n      <th></th>\n      <th>name</th>\n      <th>teacher</th>\n      <th>imgurl</th>\n    </tr>\n  </thead>\n  <tbody>\n    <tr>\n      <th>0</th>\n      <td>Английский язык</td>\n      <td>[Сидоренко И.Я., Миколайчик М.В.]</td>\n      <td>english_img.jpg</td>\n    </tr>\n    <tr>\n      <th>1</th>\n      <td>Управление человеческими ресурсами</td>\n      <td>[Герасимова С.В.]</td>\n      <td>management_img.jpg</td>\n    </tr>\n    <tr>\n      <th>2</th>\n      <td>Методология научных исследований</td>\n      <td>[Королев О.Л.]</td>\n      <td>research_img.jpg</td>\n    </tr>\n    <tr>\n      <th>3</th>\n      <td>Управление инновациями на предприятии</td>\n      <td>[Герасимова С.В., Круликовский А.П.]</td>\n      <td>inno_img.jpg</td>\n    </tr>\n    <tr>\n      <th>4</th>\n      <td>Теория цифровой экономики</td>\n      <td>[Апатова Н.В., Остапенко И.Н.]</td>\n      <td>economy_img.jpg</td>\n    </tr>\n    <tr>\n      <th>5</th>\n      <td>Теория защищенности ЭКС</td>\n      <td>[Бойченко О.В.]</td>\n      <td>security_img.jpg</td>\n    </tr>\n  </tbody>\n</table>\n</div>"
     },
     "metadata": {},
     "execution_count": 5
    }
   ],
   "source": [
    "data"
   ]
  },
  {
   "cell_type": "code",
   "execution_count": 6,
   "metadata": {},
   "outputs": [],
   "source": [
    "data.to_csv('data/subjects.csv')"
   ]
  },
  {
   "cell_type": "code",
   "execution_count": 12,
   "metadata": {},
   "outputs": [],
   "source": [
    "teachers = np.array([\n",
    "    [\n",
    "        'Герасимова С.В.',\n",
    "        'pr_ger_img.jpg',\n",
    "    ],\n",
    "    [\n",
    "        'Королев О.Л.',\n",
    "        'pr_cor_img.jpg',\n",
    "    ],\n",
    "    [\n",
    "        'Апатова Н.В.',\n",
    "        'pr_apat_img.jpg'   \n",
    "    ],\n",
    "    [\n",
    "        'Остапенко И.Н.',\n",
    "        'pr_nik_img.jpg',\n",
    "    ],\n",
    "    [\n",
    "       'Бойченко О.В.', \n",
    "       'pr_pin_img.png',\n",
    "    ],\n",
    "    [\n",
    "        'Круликовский А.П.',\n",
    "        'pr_krol_img.jpg',\n",
    "    ],\n",
    "    [\n",
    "        'Сидоренко И.Я.',\n",
    "        'https://placehold.it/500x500',\n",
    "    ],\n",
    "    [\n",
    "        'Миколайчик М.В.',\n",
    "        'https://placehold.it/500x500',\n",
    "    ],\n",
    "])"
   ]
  },
  {
   "cell_type": "code",
   "execution_count": 13,
   "metadata": {},
   "outputs": [],
   "source": [
    "data2 = pd.DataFrame(teachers, columns = [\n",
    "    'name',\n",
    "    'imgurl'\n",
    "])"
   ]
  },
  {
   "cell_type": "code",
   "execution_count": 15,
   "metadata": {},
   "outputs": [],
   "source": [
    "data2.to_csv('data/teachers.csv')"
   ]
  },
  {
   "cell_type": "code",
   "execution_count": null,
   "metadata": {},
   "outputs": [],
   "source": []
  }
 ]
}